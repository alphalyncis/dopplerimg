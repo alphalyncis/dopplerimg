{
 "cells": [
  {
   "cell_type": "markdown",
   "metadata": {
    "Collapsed": "false",
    "colab_type": "text",
    "id": "spgydwe4FY9j"
   },
   "source": [
    "#### Getting the Grid"
   ]
  },
  {
   "cell_type": "code",
   "execution_count": 1,
   "metadata": {
    "Collapsed": "false",
    "colab": {
     "base_uri": "https://localhost:8080/",
     "height": 54
    },
    "colab_type": "code",
    "id": "BuJfe4XyERQo",
    "outputId": "75d34e98-cff9-4c24-8551-3a8be4c66a0c"
   },
   "outputs": [],
   "source": [
    "import numpy as np\n",
    "import os\n",
    "import warnings\n",
    "warnings.filterwarnings('ignore')\n",
    "from astropy.io import fits\n",
    "homedir = os.path.expanduser('~')\n",
    "from Starfish.grid_tools import CIFISTGridInterface\n",
    "import matplotlib.pyplot as plt"
   ]
  },
  {
   "cell_type": "code",
   "execution_count": 2,
   "metadata": {
    "Collapsed": "false",
    "colab": {},
    "colab_type": "code",
    "id": "TJtk9ecYEMBe"
   },
   "outputs": [],
   "source": [
    "grid = CIFISTGridInterface(path=f\"{homedir}/uoedrive/data/BTSettltest\",air=True, wl_range=(1.5e4, 2.5e4))\n",
    "grid.points = [np.array([1400, 1500, 1550]), np.array([5, 5.5])]"
   ]
  },
  {
   "cell_type": "markdown",
   "metadata": {
    "Collapsed": "false",
    "colab_type": "text",
    "id": "zOywmJdgGRU2"
   },
   "source": [
    "From here, we will want to set up our HDF5 interface that will allow us to go on to using the spectral emulator, but first we need to determine our model subset and instrument.\n",
    "\n",
    "### Setting up the HDF5 Interface\n",
    "\n",
    "We set up an HDF5 interface in order to allow much quicker reading and writing than compared to loading FITS files over and over again. In addition, when considering the application to our likelihood methods, we know that for a given dataset, any effects characteristic of the instrument can be pre-applied to our models, saving on computation time during the maximum likelihood estimation."
   ]
  },
  {
   "cell_type": "code",
   "execution_count": 3,
   "metadata": {
    "Collapsed": "false",
    "colab": {
     "base_uri": "https://localhost:8080/",
     "height": 54
    },
    "colab_type": "code",
    "id": "DiUf8DK8E46W",
    "outputId": "3c61ea76-561a-4b9d-c7a9-762e6da56fe5"
   },
   "outputs": [],
   "source": [
    "from Starfish.grid_tools.instruments import IGRINS_K\n",
    "from Starfish.grid_tools import HDF5Creator\n",
    "ranges = [[1400, 1550], [5.0, 5.5]]  # T, logg, Z\n",
    "if os.path.exists(\"BTSettl_K_grid.hdf5\"):\n",
    "    os.remove(\"BTSettl_K_grid.hdf5\")\n",
    "creator = HDF5Creator(\n",
    "    grid, \"BTSettl_K_grid.hdf5\", instrument=IGRINS_K(), wl_range=(1.5e4, 2.5e4), ranges=ranges\n",
    ")"
   ]
  },
  {
   "cell_type": "code",
   "execution_count": 5,
   "metadata": {},
   "outputs": [
    {
     "name": "stderr",
     "output_type": "stream",
     "text": [
      "Processing [1550.     5.5]: 100%|██████████| 6/6 [00:10<00:00,  1.70s/it]\n"
     ]
    }
   ],
   "source": [
    "creator.process_grid()"
   ]
  },
  {
   "cell_type": "markdown",
   "metadata": {
    "Collapsed": "false",
    "colab_type": "text",
    "id": "t02wYIl-kGMA"
   },
   "source": [
    "### Setting up the Spectral Emulator\n",
    "\n",
    "Once we have our pre-processed grid, we can make our spectral emulator and train its Gaussian process hyperparameters."
   ]
  },
  {
   "cell_type": "code",
   "execution_count": 6,
   "metadata": {
    "Collapsed": "false",
    "colab": {
     "base_uri": "https://localhost:8080/",
     "height": 382
    },
    "colab_type": "code",
    "id": "5QUlomkCkNuj",
    "outputId": "3540ebf9-0c43-4ab4-daf6-71faf5c76491"
   },
   "outputs": [
    {
     "data": {
      "text/plain": [
       "Emulator\n",
       "--------\n",
       "Trained: False\n",
       "lambda_xi: 1.000\n",
       "Variances:\n",
       "\t10000.00\n",
       "\t10000.00\n",
       "\t10000.00\n",
       "Lengthscales:\n",
       "\t[ 300.00  1.50 ]\n",
       "\t[ 300.00  1.50 ]\n",
       "\t[ 300.00  1.50 ]\n",
       "Log Likelihood: -1297.62"
      ]
     },
     "execution_count": 6,
     "metadata": {},
     "output_type": "execute_result"
    }
   ],
   "source": [
    "from Starfish.emulator import Emulator\n",
    "\n",
    "# can load from string or HDF5Interface\n",
    "emu = Emulator.from_grid(\"BTSettl_K_grid.hdf5\")\n",
    "emu"
   ]
  },
  {
   "cell_type": "code",
   "execution_count": 7,
   "metadata": {
    "Collapsed": "false",
    "colab": {},
    "colab_type": "code",
    "id": "Udo3krt7kV85"
   },
   "outputs": [
    {
     "name": "stdout",
     "output_type": "stream",
     "text": [
      "CPU times: user 455 ms, sys: 3.47 ms, total: 458 ms\n",
      "Wall time: 458 ms\n"
     ]
    },
    {
     "data": {
      "text/plain": [
       "Emulator\n",
       "--------\n",
       "Trained: True\n",
       "lambda_xi: 1.002\n",
       "Variances:\n",
       "\t731730.75\n",
       "\t653946.75\n",
       "\t162408.77\n",
       "Lengthscales:\n",
       "\t[ 200.57  1.49 ]\n",
       "\t[ 200.00  1.25 ]\n",
       "\t[ 200.00  1.31 ]\n",
       "Log Likelihood: -99.20"
      ]
     },
     "execution_count": 7,
     "metadata": {},
     "output_type": "execute_result"
    }
   ],
   "source": [
    "%time emu.train(options=dict(maxiter=1e5))\n",
    "emu"
   ]
  },
  {
   "cell_type": "markdown",
   "metadata": {
    "Collapsed": "false",
    "colab": {},
    "colab_type": "code",
    "id": "2JDpJSR_n2DG"
   },
   "source": [
    "<div class=\"alert alert-info\">\n",
    "  \n",
    "**Note:** If the emulator does not optimize the first time you use ``train``, just run it again. You can also tweak the arguments passed to ``scipy.optimize.minimize`` by passing them as keyword arguments to the call.\n",
    "    \n",
    "</div>\n",
    "\n",
    "<div class=\"alert alert-warning\">\n",
    "\n",
    "**Warning:** Training the emulator will take on the order of minutes to complete. The more eigenspectra that are used as well as the resolution of the spectrograph will mainly dominate this runtime.\n",
    "\n",
    "</div>\n",
    "\n",
    "We can do a sanity check on the optimization by looking at slice of the emulator's parameter space and the corresponding Gaussian process fit. We should see a smooth line connecting all the parameter values with some uncertainty that grows with large gaps or turbulent weights."
   ]
  },
  {
   "cell_type": "code",
   "execution_count": 17,
   "metadata": {
    "Collapsed": "false"
   },
   "outputs": [
    {
     "data": {
      "image/png": "[encoded data removed]",
      "text/plain": [
       "<Figure size 500x400 with 3 Axes>"
      ]
     },
     "metadata": {},
     "output_type": "display_data"
    }
   ],
   "source": [
    "%matplotlib inline\n",
    "import itertools\n",
    "emulator = emu \n",
    "\n",
    "T = np.unique(emulator.grid_points[:, 0])\n",
    "logg = np.unique(emulator.grid_points[:, 1])\n",
    "params = np.array(list(itertools.product(T, logg[:1])))\n",
    "idxs = np.array([emulator.get_index(p) for p in params])\n",
    "weights = emulator.weights[idxs.astype(\"int\")].T\n",
    "if emulator.ncomps < 4:\n",
    "    fix, axes = plt.subplots(\n",
    "        emulator.ncomps, 1, sharex=True, figsize=(5, (emulator.ncomps - 1) * 2)\n",
    "    )\n",
    "else:\n",
    "    fix, axes = plt.subplots(\n",
    "        int(np.ceil(emulator.ncomps / 2)),\n",
    "        2,\n",
    "        sharex=True,\n",
    "        figsize=(13, (emulator.ncomps - 1) * 2),\n",
    "    )\n",
    "axes = np.ravel(np.array(axes).T)\n",
    "[ax.set_ylabel(f\"$w_{i}$\") for i, ax in enumerate(axes)]\n",
    "for i, w in enumerate(weights):\n",
    "    axes[i].plot(T, w, \"o\")\n",
    "\n",
    "Ttest = np.linspace(T.min(), T.max(), 100)\n",
    "Xtest = np.array(list(itertools.product(Ttest, logg[:1])))\n",
    "mus = []\n",
    "covs = []\n",
    "for X in Xtest:\n",
    "    m, c = emulator(X)\n",
    "    mus.append(m)\n",
    "    covs.append(c)\n",
    "mus = np.array(mus)\n",
    "covs = np.array(covs)\n",
    "sigs = np.sqrt(np.diagonal(covs, axis1=-2, axis2=-1))\n",
    "for i, (m, s) in enumerate(zip(mus.T, sigs.T)):\n",
    "    axes[i].plot(Ttest, m, \"C1\")\n",
    "    axes[i].fill_between(Ttest, m - 2 * s, m + 2 * s, color=\"C1\", alpha=0.3)\n",
    "axes[-1].set_xlabel(\"T (K)\")\n",
    "plt.suptitle(f\"Weights for fixed $\\log g={logg[0]:.2f}$\")\n",
    "plt.tight_layout()"
   ]
  },
  {
   "cell_type": "markdown",
   "metadata": {
    "Collapsed": "false"
   },
   "source": [
    "If we are satisfied, let's save this emulator and move on to fitting some data."
   ]
  },
  {
   "cell_type": "code",
   "execution_count": 18,
   "metadata": {
    "Collapsed": "false"
   },
   "outputs": [],
   "source": [
    "emu.save(\"BTSettl_K_emu.hdf5\")"
   ]
  }
 ],
 "metadata": {
  "colab": {
   "name": "setup.ipynb",
   "provenance": [],
   "version": "0.3.2"
  },
  "kernelspec": {
   "display_name": "Python 3.8.3 ('venv': venv)",
   "language": "python",
   "name": "python3"
  },
  "language_info": {
   "codemirror_mode": {
    "name": "ipython",
    "version": 3
   },
   "file_extension": ".py",
   "mimetype": "text/x-python",
   "name": "python",
   "nbconvert_exporter": "python",
   "pygments_lexer": "ipython3",
   "version": "3.8.3"
  },
  "vscode": {
   "interpreter": {
    "hash": "638cf8c463628fc67968a5c6a833a7817fd9d6469dabdb54cd260a1d30dcb878"
   }
  }
 },
 "nbformat": 4,
 "nbformat_minor": 4
}
